{
 "cells": [
  {
   "cell_type": "markdown",
   "id": "8e981e5b",
   "metadata": {},
   "source": [
    "# BERT Fine-Tuning for Domain-Specific Text Classification"
   ]
  },
  {
   "cell_type": "code",
   "execution_count": null,
   "id": "0b5d3e48",
   "metadata": {},
   "outputs": [],
   "source": [
    "\n",
    "# Install the required libraries\n",
    "!pip install transformers torch datasets\n"
   ]
  },
  {
   "cell_type": "markdown",
   "id": "601c2762",
   "metadata": {},
   "source": [
    "## Step 1: Load the Dataset"
   ]
  },
  {
   "cell_type": "code",
   "execution_count": null,
   "id": "02d9c429",
   "metadata": {},
   "outputs": [],
   "source": [
    "\n",
    "import pandas as pd\n",
    "from sklearn.model_selection import train_test_split\n",
    "from datasets import Dataset\n",
    "\n",
    "# Load dataset\n",
    "df = pd.read_csv('domain_specific_text_classification_dataset.csv')\n",
    "\n",
    "# Split into training and testing datasets\n",
    "train_texts, test_texts, train_labels, test_labels = train_test_split(\n",
    "    df['Text'].tolist(), df['Category'].tolist(), test_size=0.2\n",
    ")\n",
    "\n",
    "# Convert to Hugging Face Dataset\n",
    "train_df = pd.DataFrame({'text': train_texts, 'label': train_labels})\n",
    "test_df = pd.DataFrame({'text': test_texts, 'label': test_labels})\n",
    "\n",
    "train_dataset = Dataset.from_pandas(train_df)\n",
    "test_dataset = Dataset.from_pandas(test_df)\n"
   ]
  },
  {
   "cell_type": "markdown",
   "id": "2e4261e2",
   "metadata": {},
   "source": [
    "## Step 2: Tokenize the Data"
   ]
  },
  {
   "cell_type": "code",
   "execution_count": null,
   "id": "f096ae3f",
   "metadata": {},
   "outputs": [],
   "source": [
    "\n",
    "from transformers import BertTokenizer\n",
    "\n",
    "# Load pre-trained BERT tokenizer\n",
    "tokenizer = BertTokenizer.from_pretrained('bert-base-uncased')\n",
    "\n",
    "def tokenize_function(examples):\n",
    "    return tokenizer(examples['text'], padding=\"max_length\", truncation=True)\n",
    "\n",
    "# Tokenize the datasets\n",
    "train_dataset = train_dataset.map(tokenize_function, batched=True)\n",
    "test_dataset = test_dataset.map(tokenize_function, batched=True)\n"
   ]
  },
  {
   "cell_type": "markdown",
   "id": "925d1913",
   "metadata": {},
   "source": [
    "## Step 3: Convert Labels to Integers"
   ]
  },
  {
   "cell_type": "code",
   "execution_count": null,
   "id": "b55fed84",
   "metadata": {},
   "outputs": [],
   "source": [
    "\n",
    "label_dict = {label: i for i, label in enumerate(df['Category'].unique())}\n",
    "train_dataset = train_dataset.map(lambda x: {'label': label_dict[x['label']]})\n",
    "test_dataset = test_dataset.map(lambda x: {'label': label_dict[x['label']]})\n"
   ]
  },
  {
   "cell_type": "markdown",
   "id": "3b992d3e",
   "metadata": {},
   "source": [
    "## Step 4: Load Pre-trained BERT for Classification"
   ]
  },
  {
   "cell_type": "code",
   "execution_count": null,
   "id": "394c6dc5",
   "metadata": {},
   "outputs": [],
   "source": [
    "\n",
    "from transformers import BertForSequenceClassification\n",
    "\n",
    "num_labels = len(label_dict)\n",
    "\n",
    "# Load pre-trained BERT model with a classification head\n",
    "model = BertForSequenceClassification.from_pretrained('bert-base-uncased', num_labels=num_labels)\n"
   ]
  },
  {
   "cell_type": "markdown",
   "id": "43b87840",
   "metadata": {},
   "source": [
    "## Step 5: Fine-Tune the Model"
   ]
  },
  {
   "cell_type": "code",
   "execution_count": null,
   "id": "5fd7ed44",
   "metadata": {},
   "outputs": [],
   "source": [
    "\n",
    "from transformers import Trainer, TrainingArguments\n",
    "\n",
    "# Define training arguments\n",
    "training_args = TrainingArguments(\n",
    "    output_dir=\"./results\",\n",
    "    evaluation_strategy=\"epoch\",\n",
    "    learning_rate=2e-5,\n",
    "    per_device_train_batch_size=16,\n",
    "    per_device_eval_batch_size=16,\n",
    "    num_train_epochs=3,\n",
    "    weight_decay=0.01,\n",
    ")\n",
    "\n",
    "# Initialize Trainer\n",
    "trainer = Trainer(\n",
    "    model=model,\n",
    "    args=training_args,\n",
    "    train_dataset=train_dataset,\n",
    "    eval_dataset=test_dataset,\n",
    "    tokenizer=tokenizer\n",
    ")\n",
    "\n",
    "# Train the model\n",
    "trainer.train()\n"
   ]
  },
  {
   "cell_type": "markdown",
   "id": "dd25a908",
   "metadata": {},
   "source": [
    "## Step 6: Evaluate the Model"
   ]
  },
  {
   "cell_type": "code",
   "execution_count": null,
   "id": "c64544d7",
   "metadata": {},
   "outputs": [],
   "source": [
    "\n",
    "# Evaluate the model\n",
    "results = trainer.evaluate()\n",
    "print(results)\n"
   ]
  }
 ],
 "metadata": {},
 "nbformat": 4,
 "nbformat_minor": 5
}
